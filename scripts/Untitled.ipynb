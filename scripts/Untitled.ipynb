{
 "cells": [
  {
   "cell_type": "code",
   "execution_count": 1,
   "metadata": {},
   "outputs": [
    {
     "name": "stdout",
     "output_type": "stream",
     "text": [
      "[[-32768 -32768 -32768 -32768]\n",
      " [-32768 -32768 -32768 -32768]\n",
      " [-32768 -32768 -32768 -32768]\n",
      " [-32768 -32768 -32768 -32768]]\n",
      "Maximun dem elevation: 2728.00, minimum dem elevation: 1247.00\n"
     ]
    }
   ],
   "source": [
    "import numpy as np\n",
    "from osgeo import osr\n",
    "from osgeo import ogr\n",
    "from osgeo import gdal\n",
    "\n",
    "#Open tif file as select band\n",
    "rasterDs = gdal.Open('../rst/20190109125130_1063922483_WGS13N.tif')\n",
    "rasterBand = rasterDs.GetRasterBand(1)\n",
    "proj = osr.SpatialReference(wkt=rasterDs.GetProjection())\n",
    "\n",
    "#Get elevation as numpy array\n",
    "elevArray = rasterBand.ReadAsArray()\n",
    "print(elevArray[:4,:4])\n",
    "\n",
    "#define not a number\n",
    "demNan = -32768\n",
    "\n",
    "#get dem max and min\n",
    "demMax = elevArray.max()\n",
    "demMin = elevArray[elevArray!=demNan].min()\n",
    "print(\"Maximun dem elevation: %.2f, minimum dem elevation: %.2f\"%(demMax,demMin))\n"
   ]
  },
  {
   "cell_type": "markdown",
   "metadata": {},
   "source": [
    "<hr/>\n",
    "\n",
    "### Create a shapefile with progressive contours\n",
    "\n",
    "Start contours from 1250 and increase every 50 m."
   ]
  },
  {
   "cell_type": "code",
   "execution_count": 2,
   "metadata": {},
   "outputs": [],
   "source": [
    "contourPath = '../shp/contoursIncremental.shp'\n",
    "contourDs = ogr.GetDriverByName(\"ESRI Shapefile\").CreateDataSource(contourPath)\n",
    "\n",
    "#define layer name and spatial \n",
    "contourShp = contourDs.CreateLayer('contour', proj)\n",
    "\n",
    "#define fields of id and elev\n",
    "fieldDef = ogr.FieldDefn(\"ID\", ogr.OFTInteger)\n",
    "contourShp.CreateField(fieldDef)\n",
    "fieldDef = ogr.FieldDefn(\"elev\", ogr.OFTReal)\n",
    "contourShp.CreateField(fieldDef)\n",
    "\n",
    "#Write shapefile using noDataValue\n",
    "#ContourGenerate(Band srcBand, double contourInterval, double contourBase, int fixedLevelCount, int useNoData, double noDataValue, \n",
    "#                Layer dstLayer, int idField, int elevField\n",
    "gdal.ContourGenerate(rasterBand, 50.0, 1250.0, [], 1, -32768., \n",
    "                     contourShp, 0, 1)\n",
    "\n",
    "contourDs.Destroy()"
   ]
  },
  {
   "cell_type": "markdown",
   "metadata": {},
   "source": [
    "<hr/>\n",
    "\n",
    "### Create a shapefile with defined contours contours\n",
    "\n",
    "Create exactly 50 contours from the min and max elevations.\n"
   ]
  },
  {
   "cell_type": "code",
   "execution_count": 3,
   "metadata": {},
   "outputs": [],
   "source": [
    "contourPath = '../shp/contoursDefined.shp'\n",
    "contourDs = ogr.GetDriverByName(\"ESRI Shapefile\").CreateDataSource(contourPath)\n",
    "\n",
    "#define layer name and spatial \n",
    "contourShp = contourDs.CreateLayer('contour', proj)\n",
    "\n",
    "#define fields of id and elev\n",
    "fieldDef = ogr.FieldDefn(\"ID\", ogr.OFTInteger)\n",
    "contourShp.CreateField(fieldDef)\n",
    "fieldDef = ogr.FieldDefn(\"elev\", ogr.OFTReal)\n",
    "contourShp.CreateField(fieldDef)\n",
    "\n",
    "#define number of contours and range\n",
    "conNum = 50\n",
    "conList =[int(x) for x in np.linspace(demMin,demMax,conNum)]\n",
    "\n",
    "#Write shapefile using noDataValue\n",
    "#ContourGenerate(Band srcBand, double contourInterval, double contourBase, int fixedLevelCount, int useNoData, double noDataValue, \n",
    "#                Layer dstLayer, int idField, int elevField\n",
    "gdal.ContourGenerate(rasterBand, 0, 0, conList, 1, -32768., \n",
    "                     contourShp, 0, 1)\n",
    "\n",
    "contourDs.Destroy()"
   ]
  },
  {
   "cell_type": "markdown",
   "metadata": {},
   "source": [
    "<hr/>\n",
    "\n",
    "### Visualize with Ipyleaflet\n",
    "\n",
    "Visualize the resulting contours with Ipyleaflet"
   ]
  },
  {
   "cell_type": "code",
   "execution_count": 4,
   "metadata": {},
   "outputs": [
    {
     "data": {
      "application/vnd.jupyter.widget-view+json": {
       "model_id": "5407cef108d44301a6b74a9e0e55c388",
       "version_major": 2,
       "version_minor": 0
      },
      "text/plain": [
       "Map(center=[27.884, -107.8895], controls=(ZoomControl(options=['position', 'zoom_in_text', 'zoom_in_title', 'z…"
      ]
     },
     "metadata": {},
     "output_type": "display_data"
    }
   ],
   "source": [
    "from ipyleaflet import Map, GeoData, LayersControl\n",
    "import geopandas as gpd\n",
    "m = Map(center=(27.8840, -107.8895), zoom=10)\n",
    "\n",
    "contourDf = gpd.read_file('../shp/contoursDefined.shp')\n",
    "contourDfWgs84 = contourDf.to_crs(epsg=4326)\n",
    "\n",
    "geo_data = GeoData(geo_dataframe = contourDfWgs84 )\n",
    "\n",
    "m.add_layer(geo_data)\n",
    "m.add_control(LayersControl())\n",
    "\n",
    "m"
   ]
  },
  {
   "cell_type": "code",
   "execution_count": null,
   "metadata": {},
   "outputs": [],
   "source": []
  }
 ],
 "metadata": {
  "kernelspec": {
   "display_name": "Python 3",
   "language": "python",
   "name": "python3"
  },
  "language_info": {
   "codemirror_mode": {
    "name": "ipython",
    "version": 3
   },
   "file_extension": ".py",
   "mimetype": "text/x-python",
   "name": "python",
   "nbconvert_exporter": "python",
   "pygments_lexer": "ipython3",
   "version": "3.8.6"
  }
 },
 "nbformat": 4,
 "nbformat_minor": 4
}
